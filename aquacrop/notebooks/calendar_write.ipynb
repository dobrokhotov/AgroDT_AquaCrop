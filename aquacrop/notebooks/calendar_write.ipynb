{
 "cells": [
  {
   "cell_type": "code",
   "execution_count": 2,
   "id": "72ae3a7f",
   "metadata": {},
   "outputs": [],
   "source": [
    "import pandas as pd"
   ]
  },
  {
   "cell_type": "code",
   "execution_count": 3,
   "id": "dfadad25",
   "metadata": {},
   "outputs": [],
   "source": [
    "meteo_path = 'ET0_nasa_power_20230401_20230901_59.425032_30.031902.csv'\n",
    "df = pd.read_csv(meteo_path, index_col=0)\n",
    "df.index = pd.to_datetime(df.index, format='%Y%m%d')"
   ]
  },
  {
   "cell_type": "code",
   "execution_count": 4,
   "id": "9119c196",
   "metadata": {},
   "outputs": [],
   "source": [
    "project_name = 'Menkovo_2023'\n",
    "start_day = df.index[0].day\n",
    "start_month = df.index[0].month\n",
    "start_year = df.index[0].year"
   ]
  },
  {
   "cell_type": "code",
   "execution_count": null,
   "id": "e28a28a3",
   "metadata": {},
   "outputs": [],
   "source": [
    "Onset: 21 May - spring 2014 alfafla seeded in Field 13\n",
    "         7.1  : AquaCrop Version (August 2023)\n",
    "         0    : The onset of the growing period is fixed on a specific date\n",
    "        -9    : Day-number (1 ... 366) of the Start of the time window for the onset criterion: Not applicable\n",
    "        -9    : Length (days) of the time window for the onset criterion: Not applicable\n",
    "       141    : Day-number (1 ... 366) for the onset of the growing period\n",
    "        -9    : preset value for generation of the onset: Not applicable\n",
    "        -9    : Number of successive days: Not applicable\n",
    "        -9    : Number of occurrences: Not applicable"
   ]
  },
  {
   "cell_type": "code",
   "execution_count": 7,
   "id": "27ebce60",
   "metadata": {},
   "outputs": [],
   "source": [
    "doy = 140\n",
    "with open(f'{project_name}.CAL', 'w') as f:\n",
    "    f.write(f'{project_name}\\n')\n",
    "    f.write('         7.1  : AquaCrop Version (August 2023)\\n')\n",
    "    f.write('         0    : The onset of the growing period is fixed on a specific date\\n')\n",
    "    f.write('        -9    : Day-number (1 ... 366) of the Start of the time window for the onset criterion: Not applicable\\n')\n",
    "    f.write('        -9    : Length (days) of the time window for the onset criterion: Not applicable\\n')\n",
    "    f.write(f'       {doy}    : Day-number (1 ... 366) for the onset of the growing period\\n')\n",
    "    f.write('        -9    : Number of successive days: Not applicable\\n')\n",
    "    f.write('        -9    : Number of occurrences: Not applicable')   "
   ]
  },
  {
   "cell_type": "code",
   "execution_count": null,
   "id": "a794f1ba",
   "metadata": {},
   "outputs": [],
   "source": []
  }
 ],
 "metadata": {
  "kernelspec": {
   "display_name": "Python 3 (ipykernel)",
   "language": "python",
   "name": "python3"
  },
  "language_info": {
   "codemirror_mode": {
    "name": "ipython",
    "version": 3
   },
   "file_extension": ".py",
   "mimetype": "text/x-python",
   "name": "python",
   "nbconvert_exporter": "python",
   "pygments_lexer": "ipython3",
   "version": "3.11.2"
  }
 },
 "nbformat": 4,
 "nbformat_minor": 5
}
