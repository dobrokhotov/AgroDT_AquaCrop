{
 "cells": [
  {
   "cell_type": "code",
   "execution_count": 5,
   "id": "a93e8bb5",
   "metadata": {},
   "outputs": [],
   "source": [
    "import pandas as pd"
   ]
  },
  {
   "cell_type": "code",
   "execution_count": 45,
   "id": "98237e4e",
   "metadata": {},
   "outputs": [],
   "source": [
    "meteo_path = 'ET0_nasa_power_20230401_20230901_59.425032_30.031902.csv'\n",
    "df = pd.read_csv(meteo_path, index_col=0)\n",
    "df.index = pd.to_datetime(df.index, format='%Y%m%d')"
   ]
  },
  {
   "cell_type": "code",
   "execution_count": 49,
   "id": "c5edbf47",
   "metadata": {},
   "outputs": [],
   "source": [
    "project_name = 'Menkovo_2023'\n",
    "start_day = df.index[0].day\n",
    "start_month = df.index[0].month\n",
    "start_year = df.index[0].year\n",
    "\n",
    "#ET0\n",
    "df['ET0_str'] = df['ET0'].apply(lambda x: str(round(x,1)) + '\\n')\n",
    "with open(f'{project_name}.ETo', 'w') as f:\n",
    "    f.write(f'{project_name}\\n')\n",
    "    f.write(f'     1  : Daily records (1=daily, 2=10-daily and 3=monthly data)\\n')\n",
    "    f.write(f'     {start_day}  : First day of record (1, 11 or 21 for 10-day or 1 for months)\\n')\n",
    "    f.write(f'     {start_month}  : First month of record\\n')\n",
    "    f.write(f'  {start_year}  : First year of record (1901 if not linked to a specific year))\\n')\n",
    "    f.write('\\n')\n",
    "    f.write('  Average ETo (mm/day) \\n')\n",
    "    f.write('======================= \\n')\n",
    "    f.writelines(df['ET0_str'])\n",
    "    \n",
    "#PRECIPITATION\n",
    "df['Pr_str'] = df['Pr'].apply(lambda x: str(round(x,1)) + '\\n')\n",
    "with open(f'{project_name}.PLU', 'w') as f:\n",
    "    f.write(f'{project_name}\\n')\n",
    "    f.write(f'     1  : Daily records (1=daily, 2=10-daily and 3=monthly data)\\n')\n",
    "    f.write(f'     {start_day}  : First day of record (1, 11 or 21 for 10-day or 1 for months)\\n')\n",
    "    f.write(f'     {start_month}  : First month of record\\n')\n",
    "    f.write(f'  {start_year}  : First year of record (1901 if not linked to a specific year))\\n')\n",
    "    f.write('\\n')\n",
    "    f.write('  Total Rain (mm) \\n')\n",
    "    f.write('======================= \\n')\n",
    "    f.writelines(df['Pr_str'])\n",
    "\n",
    "#TEMPERATURES\n",
    "df['Tn_str'] = df['Tn'].apply(lambda x: str(round(x,1)))\n",
    "df['Tx_str'] = df['Tx'].apply(lambda x: str(round(x,1)))\n",
    "df['Tnx_str'] = df['Tn_str'] + '\\t' + df['Tx_str'] + '\\n' \n",
    "with open(f'{project_name}.Tnx', 'w') as f:\n",
    "    f.write(f'{project_name}\\n')\n",
    "    f.write(f'     1  : Daily records (1=daily, 2=10-daily and 3=monthly data)\\n')\n",
    "    f.write(f'     {start_day}  : First day of record (1, 11 or 21 for 10-day or 1 for months)\\n')\n",
    "    f.write(f'     {start_month}  : First month of record\\n')\n",
    "    f.write(f'  {start_year}  : First year of record (1901 if not linked to a specific year))\\n')\n",
    "    f.write('\\n')\n",
    "    f.write('  Tmin (C)   TMax (C)\\n')\n",
    "    f.write('=======================\\n')\n",
    "    f.writelines(df['Tnx_str'])\n",
    "    \n",
    "#CLIMATE\n",
    "with open(f'{project_name}.CLI', 'w') as f:\n",
    "    f.write(f'{project_name}\\n')\n",
    "    f.write(' 7.1   : AquaCrop Version (August 2023)\\n')\n",
    "    f.write(f'{project_name}.Tnx\\n')\n",
    "    f.write(f'{project_name}.ETo\\n')\n",
    "    f.write(f'{project_name}.PLU\\n')\n",
    "    f.write(f'MaunaLoa.CO2')"
   ]
  }
 ],
 "metadata": {
  "kernelspec": {
   "display_name": "Python 3 (ipykernel)",
   "language": "python",
   "name": "python3"
  },
  "language_info": {
   "codemirror_mode": {
    "name": "ipython",
    "version": 3
   },
   "file_extension": ".py",
   "mimetype": "text/x-python",
   "name": "python",
   "nbconvert_exporter": "python",
   "pygments_lexer": "ipython3",
   "version": "3.11.2"
  }
 },
 "nbformat": 4,
 "nbformat_minor": 5
}
