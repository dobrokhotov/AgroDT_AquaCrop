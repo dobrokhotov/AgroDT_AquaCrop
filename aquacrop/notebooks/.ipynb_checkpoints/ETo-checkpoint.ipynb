{
 "cells": [
  {
   "cell_type": "code",
   "execution_count": 3,
   "metadata": {},
   "outputs": [],
   "source": [
    "from AgroMetEquations.auxiliary import (get_solar_declination,\n",
    "                                        get_sunset_hour_angle,\n",
    "                                        get_daylight_hours,\n",
    "                                        get_inverse_relative_distance_earth_sun,\n",
    "                                        get_daily_extraterrestrial_radiation,\n",
    "                                        daily_to_15min,\n",
    "                                        get_clear_sky_radiation,\n",
    "                                        get_svp_from_temp,\n",
    "                                        get_svp,\n",
    "                                        get_avp_from_rhmin_rhmax,\n",
    "                                        get_avp_from_rhmean,\n",
    "                                        watt2mj15min,\n",
    "                                        get_net_out_lw_rad,\n",
    "                                        celsius2kelvin,\n",
    "                                        get_net_in_sol_rad,\n",
    "                                        get_net_rad,\n",
    "                                        get_soil_heat_flux_by_night_or_day_period,\n",
    "                                        get_latent_heat,\n",
    "                                        get_delta_svp,\n",
    "                                        get_psy_const,\n",
    "                                        get_wind_speed_2m\n",
    "                                                                                )\n",
    "\n",
    "from AgroMetEquations.evapotranspiration_equations import (fao56_penman_monteith)\n",
    "import json\n",
    "import pandas as pd\n",
    "import os, json, requests\n",
    "import math\n",
    "import numpy as np"
   ]
  },
  {
   "cell_type": "code",
   "execution_count": 4,
   "metadata": {},
   "outputs": [],
   "source": [
    "#!pip instal AgroMetEquations"
   ]
  },
  {
   "cell_type": "code",
   "execution_count": 5,
   "metadata": {},
   "outputs": [],
   "source": [
    "# Данные датчиков, которые будут поступать с метеорологической станции\n",
    "\n",
    "# temperature_min - Минимальная температура\n",
    "# temperature_max - Максимальная температура\n",
    "# mean_temp - Средняя температура\n",
    "# relative_humidity_min - Минимальная относительная влажность\n",
    "# relative_humidity_max - Максимальная относительная влажность\n",
    "# mean_rh - Средняя относительная влажность\n",
    "# solar_rad - Солнечное излучение\n",
    "# атмосферное_давление - Атмосферное давление\n",
    "# wind_speed - Скорость ветра\n",
    "\n",
    "# 1 - День года: days_passed_on_current_year() -> Для целей тестирования это значение жестко задано равным 25/03\n",
    "# 2 - Солнечное склонение: sol_dec(день_из_года)\n",
    "# 3 - Часовой угол захода солнца: sunset_hour_angle(широтный_рад, солнечное_отрицание)\n",
    "# 4 - Дневное время: daylight_hours(sunset_hour_angle)\n",
    "# 5 - Обратное относительное расстояние между землей и солнцем: inv_rel_dist_earth_sun(day_of_year)\n",
    "# 6 - Внеземное излучение: et_rad(широтный_рад, солнечное_отрицание, закат_часовой_англ, инв_рел_дист_земли_солнца)\n",
    "# 7 - Излучение чистого неба: cs_rad (высота, внеземное излучение)\n",
    "# 8 - Минимальное давление насыщенного пара: svp_from_t(temperature_min)\n",
    "# 9 - Максимальное давление насыщенного пара: svp_from_t(temperature_max)\n",
    "# 10 - Давление насыщенного пара: svp(svp_min, svp_max)\n",
    "# 11 - Фактическое давление пара: avp_from_rhmin_rhmax(svp_min, svp_max, relative_humidity_min, relative_humidity_max)\n",
    "# 12 - Чистое исходящее длинноволновое излучение: net_out_lw_rad(temperature_min:кельвин, temperature_max:кельвин,\n",
    "# солнечное_излучение, чистое_sky_излучение, фактическое_пара_давление)\n",
    "# 13 - Чистый доход от солнечной радиации: net_in_sol_rad(солнечное излучение)\n",
    "# 14 - Чистое излучение на поверхности посева: net_rad(net_in_sol_rad, net_outgoing_longwave_radiation)\n",
    "# 15 - Тепловой поток почвы: soil_heat_flux_by_nightday_period(net_rad)\n",
    "# 16 - Скрытое тепло: latent_heat(temperature_mean)\n",
    "# 17 - Дельта: delta_svp(temperature_mean)\n",
    "# 18 - Психрометрическая постоянная: psy_const(атмосферное давление, скрытый нагрев)\n",
    "# 19 - Скорость ветра, измеренная на разных высотах: wind_speed_2m(wind_speed, sensor_height)\n",
    "# 20 - FAO56: fao56_penman_monteith(net_rad, temperature_mean, wind_speed, latent_heat, svp, actual_vapour_pressure,\n",
    "# дельта, психрометрическая_постоянность, тепловыделение почвы)"
   ]
  },
  {
   "cell_type": "code",
   "execution_count": 6,
   "metadata": {},
   "outputs": [],
   "source": [
    "#net_rad – Net radiation at crop surface [MJ m-2 day-1]. If necessary this can be estimated using net_rad().\n",
    "#t – Air temperature at 2 m height [deg Kelvin].\n",
    "#ws – Wind speed at 2 m height [m s-1]. If not measured at 2m, convert using wind_speed_at_2m().\n",
    "#svp – Saturation vapour pressure [kPa]. Can be estimated using ``svp_from_t()’’.\n",
    "#avp – Actual vapour pressure [kPa]. Can be estimated using a range of functions with names beginning with ‘avp_from’.\n",
    "#delta_svp – Slope of saturation vapour pressure curve [kPa degC-1]. Can be estimated using delta_svp().\n",
    "#psy – Psychrometric constant [kPa deg C]. Can be estimatred using psy_const_of_psychrometer() or psy_const().\n",
    "#shf – Soil heat flux (G) [MJ m-2 day-1] (default is 0.0, which is reasonable for a daily or 10-day time steps). For monthly time steps shf can be estimated using monthly_soil_heat_flux() or monthly_soil_heat_flux2()."
   ]
  },
  {
   "cell_type": "code",
   "execution_count": 7,
   "metadata": {},
   "outputs": [],
   "source": [
    "#начальные данные\n",
    "altitude = 10\n",
    "latitude, longitude = (60, 30)\n",
    "date_start, date_end = (20230501, 20230701)\n",
    "#output = r\"D:/SCIENCE/Crop Variety Calibration/ET0\"\n",
    "output = r\"C:/Почвенный\"\n",
    "meteo_parameters = 'T2M,T2M_MAX,T2M_MIN,WS2M,PS,RH2M,PRECTOT,ALLSKY_SFC_SW_DWN'"
   ]
  },
  {
   "cell_type": "code",
   "execution_count": 8,
   "metadata": {},
   "outputs": [],
   "source": [
    "base_url = r\"https://power.larc.nasa.gov/api/temporal/daily/point?parameters={meteo_parameters}&community=AG&longitude={longitude}&latitude={latitude}&start={date_start}&end={date_end}&format=JSON\"\n",
    "\n",
    "api_request_url = base_url.format(meteo_parameters=meteo_parameters,longitude=longitude, latitude=latitude, date_start=date_start, date_end=date_end)\n",
    "\n",
    "response = requests.get(url=api_request_url, verify=True, timeout=30.00)\n",
    "\n",
    "content = json.loads(response.content.decode('utf-8'))\n",
    "\n",
    "filename = 'nasa_power_{date_start}_{date_end}_{latitude}_{longitude}.json'.format(longitude=longitude, latitude=latitude, date_start=date_start, date_end=date_end)\n",
    "\n",
    "filepath = os.path.join(output, filename)\n",
    "\n",
    "with open(filepath, 'w') as file_object:\n",
    "    json.dump(content, file_object)"
   ]
  },
  {
   "cell_type": "code",
   "execution_count": 9,
   "metadata": {},
   "outputs": [
    {
     "name": "stdout",
     "output_type": "stream",
     "text": [
      "          ALLSKY_SFC_SW_DWN  T2M_MIN    T2M      PS   RH2M  WS2M  T2M_MAX  \\\n",
      "20230501              19.95     0.83   5.26  100.90  79.38  1.73     9.32   \n",
      "20230502              17.09     3.30   7.07  100.54  86.75  2.16    12.54   \n",
      "20230503              15.01     3.41   6.14  101.14  75.81  2.34     9.23   \n",
      "20230504              12.83    -0.17   2.69  101.79  76.38  1.80     4.57   \n",
      "20230505              16.59    -1.08   0.84  102.23  80.19  1.49     3.40   \n",
      "...                     ...      ...    ...     ...    ...   ...      ...   \n",
      "20230627              23.56    15.51  19.41  100.76  77.94  0.88    23.24   \n",
      "20230628              24.34    15.83  20.36  100.57  71.31  0.69    24.43   \n",
      "20230629              24.91    16.41  20.59  100.21  72.62  0.88    24.15   \n",
      "20230630              22.44    16.84  20.71   99.86  72.94  0.77    23.83   \n",
      "20230701              12.88    15.83  18.65   99.18  81.56  1.62    22.04   \n",
      "\n",
      "          PRECTOTCORR  datetime  \n",
      "20230501         0.37  20230501  \n",
      "20230502         8.39  20230502  \n",
      "20230503         0.42  20230503  \n",
      "20230504         0.63  20230504  \n",
      "20230505         1.02  20230505  \n",
      "...               ...       ...  \n",
      "20230627         1.67  20230627  \n",
      "20230628         0.68  20230628  \n",
      "20230629         0.19  20230629  \n",
      "20230630         0.68  20230630  \n",
      "20230701         3.40  20230701  \n",
      "\n",
      "[62 rows x 9 columns]\n"
     ]
    }
   ],
   "source": [
    "data = json.load(open('nasa_power_{date_start}_{date_end}_{latitude}_{longitude}.json'.format(longitude=longitude, latitude=latitude, date_start=date_start, date_end=date_end)))\n",
    "df = pd.DataFrame(data['properties']['parameter'])\n",
    "df['datetime'] = df.index\n",
    "#df.replace(-999.00, 999.00)\n",
    "print(df)"
   ]
  },
  {
   "cell_type": "code",
   "execution_count": 10,
   "metadata": {},
   "outputs": [
    {
     "name": "stdout",
     "output_type": "stream",
     "text": [
      "20230501    0.261263\n",
      "20230502    0.266641\n",
      "20230503    0.271940\n",
      "20230504    0.277159\n",
      "20230505    0.282295\n",
      "              ...   \n",
      "20230627    0.406818\n",
      "20230628    0.406032\n",
      "20230629    0.405125\n",
      "20230630    0.404098\n",
      "20230701    0.402952\n",
      "Name: solar_dec, Length: 62, dtype: float64\n"
     ]
    }
   ],
   "source": [
    "#Солнечное склонение: sol_dec(день_из_года)\n",
    "df['datetime'] = pd.to_datetime(df.index)\n",
    "df['doy'] = df['datetime'].apply(lambda x: int(x.strftime('%j')))\n",
    "\n",
    "df['solar_dec'] = df['doy'].apply(get_solar_declination)\n",
    "print(df['solar_dec'])\n"
   ]
  },
  {
   "cell_type": "code",
   "execution_count": 11,
   "metadata": {},
   "outputs": [
    {
     "name": "stdout",
     "output_type": "stream",
     "text": [
      "20230501    1.047198\n",
      "20230502    1.047198\n",
      "20230503    1.047198\n",
      "20230504    1.047198\n",
      "20230505    1.047198\n",
      "              ...   \n",
      "20230627    1.047198\n",
      "20230628    1.047198\n",
      "20230629    1.047198\n",
      "20230630    1.047198\n",
      "20230701    1.047198\n",
      "Name: latitude, Length: 62, dtype: float64\n",
      "20230501    2.052294\n",
      "20230502    2.063605\n",
      "20230503    2.074850\n",
      "20230504    2.086026\n",
      "20230505    2.097128\n",
      "              ...   \n",
      "20230627    2.413223\n",
      "20230628    2.410801\n",
      "20230629    2.408018\n",
      "20230630    2.404880\n",
      "20230701    2.401392\n",
      "Name: sunset_hour_angle, Length: 62, dtype: float64\n"
     ]
    }
   ],
   "source": [
    "#Часовой угол захода солнца: sunset_hour_angle(широтный_рад, солнечное_отрицание)\n",
    "df['latitude'] = math.radians(latitude)\n",
    "df['sunset_hour_angle'] = df.apply(lambda x: get_sunset_hour_angle(x.latitude, x.solar_dec), axis=1)\n",
    "print(df.latitude)\n",
    "print(df.sunset_hour_angle)"
   ]
  },
  {
   "cell_type": "code",
   "execution_count": 12,
   "metadata": {},
   "outputs": [
    {
     "name": "stdout",
     "output_type": "stream",
     "text": [
      "20230501    15.678368\n",
      "20230502    15.764779\n",
      "20230503    15.850688\n",
      "20230504    15.936065\n",
      "20230505    16.020879\n",
      "              ...    \n",
      "20230627    18.435665\n",
      "20230628    18.417161\n",
      "20230629    18.395904\n",
      "20230630    18.371931\n",
      "20230701    18.345284\n",
      "Name: daylight_hours, Length: 62, dtype: float64\n"
     ]
    }
   ],
   "source": [
    "# Дневное время: daylight_hours(sunset_hour_angle) кол-во солнечных часов\n",
    "# Часы\n",
    "df['daylight_hours'] = df['sunset_hour_angle'].apply(get_daylight_hours)\n",
    "print(df.daylight_hours)"
   ]
  },
  {
   "cell_type": "code",
   "execution_count": 13,
   "metadata": {},
   "outputs": [
    {
     "name": "stdout",
     "output_type": "stream",
     "text": [
      "20230501    0.983829\n",
      "20230502    0.983336\n",
      "20230503    0.982848\n",
      "20230504    0.982366\n",
      "20230505    0.981888\n",
      "              ...   \n",
      "20230627    0.967099\n",
      "20230628    0.967060\n",
      "20230629    0.967031\n",
      "20230630    0.967011\n",
      "20230701    0.967001\n",
      "Name: inv_rel_dist_earth_sun, Length: 62, dtype: float64\n"
     ]
    }
   ],
   "source": [
    "# Обратное относительное расстояние между землей и солнцем: inv_rel_dist_earth_sun(day_of_year)\n",
    "# безразмерное\n",
    "df['inv_rel_dist_earth_sun'] = df['doy'].apply(get_inverse_relative_distance_earth_sun)\n",
    "print(df.inv_rel_dist_earth_sun)"
   ]
  },
  {
   "cell_type": "code",
   "execution_count": 14,
   "metadata": {},
   "outputs": [
    {
     "name": "stdout",
     "output_type": "stream",
     "text": [
      "20230501    32.807136\n",
      "20230502    33.109772\n",
      "20230503    33.408616\n",
      "20230504    33.703556\n",
      "20230505    33.994478\n",
      "              ...    \n",
      "20230627    41.170042\n",
      "20230628    41.117296\n",
      "20230629    41.057203\n",
      "20230630    40.989801\n",
      "20230701    40.915130\n",
      "Name: ext_rad, Length: 62, dtype: float64\n"
     ]
    }
   ],
   "source": [
    "# Внеземное излучение: ext_rad(широтный_рад, солнечное_отрицание, закат_часовой_англ, инв_рел_дист_земли_солнца)\n",
    "# Extraterrestrial radiation: et_rad(latitude_rad, solar_declination, sunset_hour_angle, inv_rel_dist_earth_sun)\n",
    "#[MJ m-2 day-1]\n",
    "\n",
    "df['ext_rad'] = df.apply(lambda x:get_daily_extraterrestrial_radiation (x.latitude, x.solar_dec, x.sunset_hour_angle, x.inv_rel_dist_earth_sun), axis=1)\n",
    "print(df.ext_rad)\n"
   ]
  },
  {
   "cell_type": "code",
   "execution_count": 15,
   "metadata": {},
   "outputs": [
    {
     "name": "stdout",
     "output_type": "stream",
     "text": [
      "20230501    2\n",
      "20230502    2\n",
      "20230503    2\n",
      "20230504    2\n",
      "20230505    2\n",
      "           ..\n",
      "20230627    2\n",
      "20230628    2\n",
      "20230629    2\n",
      "20230630    2\n",
      "20230701    2\n",
      "Name: altitude, Length: 62, dtype: int64\n",
      "20230501    24.606664\n",
      "20230502    24.833653\n",
      "20230503    25.057799\n",
      "20230504    25.279015\n",
      "20230505    25.497218\n",
      "              ...    \n",
      "20230627    30.879179\n",
      "20230628    30.839617\n",
      "20230629    30.794544\n",
      "20230630    30.743990\n",
      "20230701    30.687984\n",
      "Name: cs_rad, Length: 62, dtype: float64\n"
     ]
    }
   ],
   "source": [
    "# 7 - Излучение чистого неба: cs_rad (высота, внеземное излучение)\n",
    "# Высота почти не влияет, меняются только сотые значения\n",
    "altitude = 2\n",
    "df['altitude'] = altitude\n",
    "df['cs_rad'] = df.apply(lambda x: get_clear_sky_radiation(x.altitude, x.ext_rad), axis=1)\n",
    "print(df['altitude'])\n",
    "print(df.cs_rad)"
   ]
  },
  {
   "cell_type": "code",
   "execution_count": 16,
   "metadata": {},
   "outputs": [
    {
     "name": "stdout",
     "output_type": "stream",
     "text": [
      "20230501    0.648696\n",
      "20230502    0.774053\n",
      "20230503    0.780101\n",
      "20230504    0.603284\n",
      "20230505    0.564427\n",
      "              ...   \n",
      "20230627    1.762152\n",
      "20230628    1.798637\n",
      "20230629    1.866454\n",
      "20230630    1.918169\n",
      "20230701    1.798637\n",
      "Name: svp_min, Length: 62, dtype: float64\n",
      "20230501    1.173116\n",
      "20230502    1.453293\n",
      "20230503    1.166021\n",
      "20230504    0.846472\n",
      "20230505    0.779550\n",
      "              ...   \n",
      "20230627    2.850479\n",
      "20230628    3.061804\n",
      "20230629    3.010888\n",
      "20230630    2.953605\n",
      "20230701    2.650384\n",
      "Name: svp_max, Length: 62, dtype: float64\n",
      "20230501    0.910906\n",
      "20230502    1.113673\n",
      "20230503    0.973061\n",
      "20230504    0.724878\n",
      "20230505    0.671988\n",
      "              ...   \n",
      "20230627    2.306316\n",
      "20230628    2.430220\n",
      "20230629    2.438671\n",
      "20230630    2.435887\n",
      "20230701    2.224510\n",
      "Name: svp, Length: 62, dtype: float64\n"
     ]
    }
   ],
   "source": [
    "# 8 - Минимальное давление насыщенного пара: svp_from_t(temperature_min)\n",
    "\n",
    "df['temperature_min'] = df['T2M_MIN']\n",
    "df['svp_min'] = df['temperature_min'].apply(get_svp_from_temp)\n",
    "# 9 - Максимальное давление насыщенного пара: svp_from_t(temperature_max)\n",
    "df['temperature_max'] = df['T2M_MAX']\n",
    "df['svp_max'] = df['temperature_max'].apply(get_svp_from_temp)\n",
    "# 10 - Давление насыщенного пара: svp(svp_min, svp_max)\n",
    "df['svp'] = df.apply(lambda x: get_svp(x.svp_min, x.svp_max), axis=1)\n",
    "\n",
    "#spv - kPa\n",
    "\n",
    "print(df.svp_min)\n",
    "print(df.svp_max)\n",
    "print(df.svp)"
   ]
  },
  {
   "cell_type": "code",
   "execution_count": 17,
   "metadata": {},
   "outputs": [
    {
     "name": "stdout",
     "output_type": "stream",
     "text": [
      "20230501    0.723077\n",
      "20230502    0.966111\n",
      "20230503    0.737678\n",
      "20230504    0.553662\n",
      "20230505    0.538867\n",
      "              ...   \n",
      "20230627    1.797543\n",
      "20230628    1.732990\n",
      "20230629    1.770963\n",
      "20230630    1.776736\n",
      "20230701    1.814311\n",
      "Name: avp, Length: 62, dtype: float64\n"
     ]
    }
   ],
   "source": [
    "# 11 - Фактическое давление пара: avp_from_rhmin_rhmax(svp_min, svp_max, relative_humidity_min, relative_humidity_max)\n",
    "df['relative_humidity_mean'] = df['RH2M']\n",
    "df['avp'] = df.apply(lambda x: get_avp_from_rhmean(x.svp_min, x.svp_max, x.relative_humidity_mean), axis=1)\n",
    "print(df.avp)\n",
    "#apv - kPa"
   ]
  },
  {
   "cell_type": "code",
   "execution_count": 18,
   "metadata": {},
   "outputs": [
    {
     "name": "stdout",
     "output_type": "stream",
     "text": [
      "20230501    19.95\n",
      "20230502    17.09\n",
      "20230503    15.01\n",
      "20230504    12.83\n",
      "20230505    16.59\n",
      "            ...  \n",
      "20230627    23.56\n",
      "20230628    24.34\n",
      "20230629    24.91\n",
      "20230630    22.44\n",
      "20230701    12.88\n",
      "Name: solar_rad, Length: 62, dtype: float64\n",
      "20230501    2.112686\n",
      "20230502    2.016051\n",
      "20230503    2.137521\n",
      "20230504    2.161097\n",
      "20230505    2.141184\n",
      "              ...   \n",
      "20230627    1.778884\n",
      "20230628    1.837903\n",
      "20230629    1.817465\n",
      "20230630    1.814888\n",
      "20230701    1.757416\n",
      "Name: net_out_lw_rad, Length: 62, dtype: float64\n"
     ]
    }
   ],
   "source": [
    "# 12 - Чистое исходящее длинноволновое излучение: net_out_lw_rad(temperature_min:кельвин, temperature_max:кельвин,\n",
    "# солнечное_излучение, чистое_sky_излучение, фактическое_пара_давление)\n",
    "df['temperature_min'] = df['T2M_MIN']\n",
    "df['temperature_max'] = df['T2M_MAX']\n",
    "df['kelvin_tmin'] = df['temperature_min'].apply(celsius2kelvin)   \n",
    "df['kelvin_tmax'] = df['temperature_max'].apply(celsius2kelvin) \n",
    "df['solar_rad'] = df['ALLSKY_SFC_SW_DWN']\n",
    "print(df.solar_rad)\n",
    "df['abs_avp']=df['avp'].abs()\n",
    "df['net_out_lw_rad'] = df.apply(lambda x: get_net_out_lw_rad(x.kelvin_tmin, x.kelvin_tmax, x.solar_rad, x.cs_rad, x.abs_avp, 'daily'), axis=1)\n",
    "\n",
    "print(df.net_out_lw_rad)"
   ]
  },
  {
   "cell_type": "code",
   "execution_count": 19,
   "metadata": {},
   "outputs": [
    {
     "name": "stdout",
     "output_type": "stream",
     "text": [
      "20230501    15.3615\n",
      "20230502    13.1593\n",
      "20230503    11.5577\n",
      "20230504     9.8791\n",
      "20230505    12.7743\n",
      "             ...   \n",
      "20230627    18.1412\n",
      "20230628    18.7418\n",
      "20230629    19.1807\n",
      "20230630    17.2788\n",
      "20230701     9.9176\n",
      "Name: net_in_sol_rad, Length: 62, dtype: float64\n"
     ]
    }
   ],
   "source": [
    "# 13 - Чистый доход от солнечной радиации: net_in_sol_rad(солнечное излучение)\n",
    "albedo = 0.23\n",
    "df['albedo'] = albedo\n",
    "df['net_in_sol_rad'] = df.apply(lambda x: get_net_in_sol_rad(x.solar_rad, x.albedo), axis=1)\n",
    "print(df.net_in_sol_rad)"
   ]
  },
  {
   "cell_type": "code",
   "execution_count": 20,
   "metadata": {},
   "outputs": [
    {
     "name": "stdout",
     "output_type": "stream",
     "text": [
      "20230501    13.248814\n",
      "20230502    11.143249\n",
      "20230503     9.420179\n",
      "20230504     7.718003\n",
      "20230505    10.633116\n",
      "              ...    \n",
      "20230627    16.362316\n",
      "20230628    16.903897\n",
      "20230629    17.363235\n",
      "20230630    15.463912\n",
      "20230701     8.160184\n",
      "Name: daily_net_radiation, Length: 62, dtype: float64\n"
     ]
    }
   ],
   "source": [
    "# 14 - Чистое излучение на поверхности посева: net_rad(net_in_sol_rad, net_outgoing_longwave_radiation)\n",
    "df['daily_net_radiation'] = df.apply(lambda x: get_net_rad(x.net_in_sol_rad, x.net_out_lw_rad), axis=1)\n",
    "print (df.daily_net_radiation)"
   ]
  },
  {
   "cell_type": "code",
   "execution_count": 21,
   "metadata": {},
   "outputs": [
    {
     "name": "stdout",
     "output_type": "stream",
     "text": [
      "20230501    1.324881\n",
      "20230502    1.114325\n",
      "20230503    0.942018\n",
      "20230504    0.771800\n",
      "20230505    1.063312\n",
      "              ...   \n",
      "20230627    1.636232\n",
      "20230628    1.690390\n",
      "20230629    1.736324\n",
      "20230630    1.546391\n",
      "20230701    0.816018\n",
      "Name: soil_heat_flux, Length: 62, dtype: float64\n"
     ]
    }
   ],
   "source": [
    "# 15 - Тепловой поток почвы: soil_heat_flux_by_nightday_period(net_rad)\n",
    "df['soil_heat_flux'] = df['daily_net_radiation'].apply ( get_soil_heat_flux_by_night_or_day_period )\n",
    "print(df.soil_heat_flux)"
   ]
  },
  {
   "cell_type": "code",
   "execution_count": 22,
   "metadata": {},
   "outputs": [
    {
     "name": "stdout",
     "output_type": "stream",
     "text": [
      "20230501    2.487534\n",
      "20230502    2.483244\n",
      "20230503    2.485448\n",
      "20230504    2.493625\n",
      "20230505    2.498009\n",
      "              ...   \n",
      "20230627    2.453998\n",
      "20230628    2.451747\n",
      "20230629    2.451202\n",
      "20230630    2.450917\n",
      "20230701    2.455799\n",
      "Name: latent_heat, Length: 62, dtype: float64\n"
     ]
    }
   ],
   "source": [
    "# 16 - Скрытое тепло: latent_heat(temperature_mean)\n",
    "df['t_mean'] =df.T2M\n",
    "df['latent_heat'] = df['t_mean'].apply(get_latent_heat)\n",
    "print(df.latent_heat)"
   ]
  },
  {
   "cell_type": "code",
   "execution_count": 23,
   "metadata": {},
   "outputs": [
    {
     "name": "stdout",
     "output_type": "stream",
     "text": [
      "20230501    0.061870\n",
      "20230502    0.069083\n",
      "20230503    0.065292\n",
      "20230504    0.052742\n",
      "20230505    0.046910\n",
      "              ...   \n",
      "20230627    0.140180\n",
      "20230628    0.147584\n",
      "20230629    0.149426\n",
      "20230630    0.150394\n",
      "20230701    0.134485\n",
      "Name: delta_svp, Length: 62, dtype: float64\n"
     ]
    }
   ],
   "source": [
    "# 17 - Дельта: delta_svp(temperature_mean)\n",
    "df['delta_svp'] = df['t_mean'].apply(get_delta_svp)\n",
    "print(df.delta_svp)"
   ]
  },
  {
   "cell_type": "code",
   "execution_count": 24,
   "metadata": {},
   "outputs": [
    {
     "name": "stdout",
     "output_type": "stream",
     "text": [
      "20230501    0.066060\n",
      "20230502    0.065938\n",
      "20230503    0.066273\n",
      "20230504    0.066480\n",
      "20230505    0.066650\n",
      "              ...   \n",
      "20230627    0.066870\n",
      "20230628    0.066805\n",
      "20230629    0.066581\n",
      "20230630    0.066356\n",
      "20230701    0.065773\n",
      "Name: gamma, Length: 62, dtype: float64\n"
     ]
    }
   ],
   "source": [
    "# 18 - Психрометрическая постоянная: psy_const(атмосферное давление, скрытый нагрев)\n",
    "\n",
    "df['atmosphere_pressure'] = df.PS\n",
    "df['gamma'] = df.apply(lambda x: get_psy_const(x.atmosphere_pressure, x.latent_heat), axis=1)\n",
    "print(df.gamma)"
   ]
  },
  {
   "cell_type": "code",
   "execution_count": 25,
   "metadata": {},
   "outputs": [
    {
     "name": "stdout",
     "output_type": "stream",
     "text": [
      "20230501    1.73\n",
      "20230502    2.16\n",
      "20230503    2.34\n",
      "20230504    1.80\n",
      "20230505    1.49\n",
      "            ... \n",
      "20230627    0.88\n",
      "20230628    0.69\n",
      "20230629    0.88\n",
      "20230630    0.77\n",
      "20230701    1.62\n",
      "Name: ws, Length: 62, dtype: float64\n"
     ]
    }
   ],
   "source": [
    "# 19 - Скорость ветра, измеренная на разных высотах: wind_speed_2m(wind_speed, sensor_height)\n",
    "#df['sensor_height'] = sensor_height\n",
    "df['ws'] = df.WS2M\n",
    "#df.ws = df.apply(lambda x: get_wind_speed_2m(x.ws, x.sensor_height), axis=1)\n",
    "print(df.ws)"
   ]
  },
  {
   "cell_type": "code",
   "execution_count": 26,
   "metadata": {},
   "outputs": [
    {
     "name": "stdout",
     "output_type": "stream",
     "text": [
      "20230501    2.355844\n",
      "20230502    2.048048\n",
      "20230503    2.016843\n",
      "20230504    1.445178\n",
      "20230505    1.624221\n",
      "              ...   \n",
      "20230627    4.219986\n",
      "20230628    4.499328\n",
      "20230629    4.661857\n",
      "20230630    4.179730\n",
      "20230701    2.378152\n",
      "Name: ETo_r, Length: 62, dtype: float64\n"
     ]
    }
   ],
   "source": [
    "# 20 - FAO56: fao56_penman_monteith(net_rad, temperature_mean, wind_speed, latent_heat, svp, actual_vapour_pressure,\n",
    "# дельта, психрометрическая_постоянность, тепловыделение почвы)\n",
    "\n",
    "df['ETo_r'] = df.apply(lambda x: fao56_penman_monteith (x.daily_net_radiation, x.t_mean, x.ws, x.latent_heat, x.svp, x.abs_avp, x.delta_svp, x.gamma, \n",
    "                                                      x.solar_rad, x.soil_heat_flux, 'daily'), axis=1)\n",
    "\n",
    "print(df.ETo_r)"
   ]
  },
  {
   "cell_type": "code",
   "execution_count": 27,
   "metadata": {},
   "outputs": [
    {
     "name": "stdout",
     "output_type": "stream",
     "text": [
      "          ALLSKY_SFC_SW_DWN  T2M_MIN    T2M      PS   RH2M  WS2M  T2M_MAX  \\\n",
      "20230501              19.95     0.83   5.26  100.90  79.38  1.73     9.32   \n",
      "20230502              17.09     3.30   7.07  100.54  86.75  2.16    12.54   \n",
      "20230503              15.01     3.41   6.14  101.14  75.81  2.34     9.23   \n",
      "20230504              12.83    -0.17   2.69  101.79  76.38  1.80     4.57   \n",
      "20230505              16.59    -1.08   0.84  102.23  80.19  1.49     3.40   \n",
      "...                     ...      ...    ...     ...    ...   ...      ...   \n",
      "20230627              23.56    15.51  19.41  100.76  77.94  0.88    23.24   \n",
      "20230628              24.34    15.83  20.36  100.57  71.31  0.69    24.43   \n",
      "20230629              24.91    16.41  20.59  100.21  72.62  0.88    24.15   \n",
      "20230630              22.44    16.84  20.71   99.86  72.94  0.77    23.83   \n",
      "20230701              12.88    15.83  18.65   99.18  81.56  1.62    22.04   \n",
      "\n",
      "          PRECTOTCORR   datetime  doy  ...  net_in_sol_rad  \\\n",
      "20230501         0.37 2023-05-01  121  ...         15.3615   \n",
      "20230502         8.39 2023-05-02  122  ...         13.1593   \n",
      "20230503         0.42 2023-05-03  123  ...         11.5577   \n",
      "20230504         0.63 2023-05-04  124  ...          9.8791   \n",
      "20230505         1.02 2023-05-05  125  ...         12.7743   \n",
      "...               ...        ...  ...  ...             ...   \n",
      "20230627         1.67 2023-06-27  178  ...         18.1412   \n",
      "20230628         0.68 2023-06-28  179  ...         18.7418   \n",
      "20230629         0.19 2023-06-29  180  ...         19.1807   \n",
      "20230630         0.68 2023-06-30  181  ...         17.2788   \n",
      "20230701         3.40 2023-07-01  182  ...          9.9176   \n",
      "\n",
      "          daily_net_radiation  soil_heat_flux  t_mean  latent_heat  delta_svp  \\\n",
      "20230501            13.248814        1.324881    5.26     2.487534   0.061870   \n",
      "20230502            11.143249        1.114325    7.07     2.483244   0.069083   \n",
      "20230503             9.420179        0.942018    6.14     2.485448   0.065292   \n",
      "20230504             7.718003        0.771800    2.69     2.493625   0.052742   \n",
      "20230505            10.633116        1.063312    0.84     2.498009   0.046910   \n",
      "...                       ...             ...     ...          ...        ...   \n",
      "20230627            16.362316        1.636232   19.41     2.453998   0.140180   \n",
      "20230628            16.903897        1.690390   20.36     2.451747   0.147584   \n",
      "20230629            17.363235        1.736324   20.59     2.451202   0.149426   \n",
      "20230630            15.463912        1.546391   20.71     2.450917   0.150394   \n",
      "20230701             8.160184        0.816018   18.65     2.455799   0.134485   \n",
      "\n",
      "          atmosphere_pressure     gamma    ws     ETo_r  \n",
      "20230501               100.90  0.066060  1.73  2.355844  \n",
      "20230502               100.54  0.065938  2.16  2.048048  \n",
      "20230503               101.14  0.066273  2.34  2.016843  \n",
      "20230504               101.79  0.066480  1.80  1.445178  \n",
      "20230505               102.23  0.066650  1.49  1.624221  \n",
      "...                       ...       ...   ...       ...  \n",
      "20230627               100.76  0.066870  0.88  4.219986  \n",
      "20230628               100.57  0.066805  0.69  4.499328  \n",
      "20230629               100.21  0.066581  0.88  4.661857  \n",
      "20230630                99.86  0.066356  0.77  4.179730  \n",
      "20230701                99.18  0.065773  1.62  2.378152  \n",
      "\n",
      "[62 rows x 41 columns]\n"
     ]
    }
   ],
   "source": [
    "print(df)"
   ]
  },
  {
   "cell_type": "code",
   "execution_count": 28,
   "metadata": {},
   "outputs": [
    {
     "name": "stdout",
     "output_type": "stream",
     "text": [
      "            T2M  T2M_MAX  T2M_MIN   RH2M  WS2M   ALLSKY_SFC_SW_DWN      PS  \\\n",
      "20230501   5.26     9.32     0.83  79.38   1.73              19.95  100.90   \n",
      "20230502   7.07    12.54     3.30  86.75   2.16              17.09  100.54   \n",
      "20230503   6.14     9.23     3.41  75.81   2.34              15.01  101.14   \n",
      "20230504   2.69     4.57    -0.17  76.38   1.80              12.83  101.79   \n",
      "20230505   0.84     3.40    -1.08  80.19   1.49              16.59  102.23   \n",
      "...         ...      ...      ...    ...    ...                ...     ...   \n",
      "20230627  19.41    23.24    15.51  77.94   0.88              23.56  100.76   \n",
      "20230628  20.36    24.43    15.83  71.31   0.69              24.34  100.57   \n",
      "20230629  20.59    24.15    16.41  72.62   0.88              24.91  100.21   \n",
      "20230630  20.71    23.83    16.84  72.94   0.77              22.44   99.86   \n",
      "20230701  18.65    22.04    15.83  81.56   1.62              12.88   99.18   \n",
      "\n",
      "               ETo  \n",
      "20230501  2.355844  \n",
      "20230502  2.048048  \n",
      "20230503  2.016843  \n",
      "20230504  1.445178  \n",
      "20230505  1.624221  \n",
      "...            ...  \n",
      "20230627  4.219986  \n",
      "20230628  4.499328  \n",
      "20230629  4.661857  \n",
      "20230630  4.179730  \n",
      "20230701  2.378152  \n",
      "\n",
      "[62 rows x 8 columns]\n"
     ]
    }
   ],
   "source": [
    "clim = pd.DataFrame(df['T2M'])\n",
    "clim['T2M_MAX'] = df['T2M_MAX']\n",
    "clim['T2M_MIN'] = df['T2M_MIN']\n",
    "clim['RH2M'] = df['RH2M'] \n",
    "clim['WS2M '] = df ['WS2M']\n",
    "clim['ALLSKY_SFC_SW_DWN'] = df['ALLSKY_SFC_SW_DWN']\n",
    "clim['PS'] = df['PS']\n",
    "clim['ETo'] = df['ETo_r']\n",
    "print(clim)\n"
   ]
  },
  {
   "cell_type": "code",
   "execution_count": 29,
   "metadata": {},
   "outputs": [],
   "source": [
    "clim.to_json(path_or_buf='clim', orient=None, date_format=None, double_precision=10, force_ascii=True, \n",
    "                  default_handler=None, lines=False, index=True)\n"
   ]
  },
  {
   "cell_type": "code",
   "execution_count": 42,
   "metadata": {},
   "outputs": [
    {
     "name": "stdout",
     "output_type": "stream",
     "text": [
      "<zip object at 0x000001EB29D9AA40>\n"
     ]
    }
   ],
   "source": [
    "#.Tnx\n",
    "\n",
    "Tnx = pd.DataFrame(df['T2M_MIN'])\n",
    "Tnx['T2M_MAX'] = df['T2M_MAX']\n",
    "tn1 = Tnx.round(1)\n",
    "tt = list(Tnx['T2M_MAX'].round(1))\n",
    "tt2 = list(Tnx['T2M_MIN'].round(1))\n",
    "t = zip(tt,tt2)\n",
    "\n",
    "print(t)"
   ]
  },
  {
   "cell_type": "code",
   "execution_count": 41,
   "metadata": {},
   "outputs": [],
   "source": [
    "tt = list(Tnx['T2M_MAX'])\n",
    "tt2 = list(Tnx['T2M_MIN'])\n",
    "file = open(\"list.txt\", \"w\")\n",
    "for index in range(len(tt)):\n",
    "    file.write(str(tt[index]) + \"   \" + str(tt2[index]) + \"\\n\")\n",
    "file.close()"
   ]
  },
  {
   "cell_type": "code",
   "execution_count": 32,
   "metadata": {},
   "outputs": [
    {
     "name": "stdout",
     "output_type": "stream",
     "text": [
      "[2.4, 2.0, 2.0, 1.4, 1.6, 2.4, 2.1, 3.1, 2.9, 3.5, 3.4, 3.8, 3.4, 2.3, 2.7, 2.8, 1.5, 3.3, 3.3, 3.3, 3.7, 3.0, 3.7, 3.9, 3.5, 3.4, 3.0, 4.1, 2.9, 3.0, 1.9, 1.8, 2.5, 2.6, 2.2, 2.7, 3.6, 3.5, 2.8, 3.1, 3.7, 4.1, 4.3, 4.4, 4.4, 4.7, 4.8, 4.5, 4.4, 4.6, 4.1, 4.6, 3.4, 2.3, 2.6, 3.0, 4.2, 4.2, 4.5, 4.7, 4.2, 2.4]\n"
     ]
    }
   ],
   "source": [
    "Name = 'name of run'\n",
    "a = 1 #Daily records (1=daily, 2=10-daily and 3=monthly data)\n",
    "b = 1 #: First day of record (1, 11 or 21 for 10-day or 1 for months)\n",
    "c = 1 #: First month of record\n",
    "year = 2023 # : First year of record (1901 if not linked to a specific year)\n",
    "d = list(clim['ETo'].round(1))\n",
    "\n",
    "print(d)"
   ]
  },
  {
   "cell_type": "code",
   "execution_count": 33,
   "metadata": {},
   "outputs": [],
   "source": [
    "#файл ETo\n",
    "with open(f'{Name}.ETo', 'w') as f:\n",
    "    print(Name, end='\\n     ', file=f)\n",
    "    print(a, ' : Daily records (1=daily, 2=10-daily and 3=monthly data)', end='\\n     ', file=f)\n",
    "    print (b, ' : First day of record (1, 11 or 21 for 10-day or 1 for months)', end='\\n     ', file=f)\n",
    "    print (c, ' : First month of record', end='\\n  ', file=f)\n",
    "    print ( year, ' : First year of record (1901 if not linked to a specific year)', end='\\n       ', file=f)\n",
    "    print (file=f)\n",
    "    print (  'Average ETo (mm/day)',file=f)\n",
    "    print ('=======================', file=f)\n",
    "    print (*d, sep='\\n', file=f) "
   ]
  },
  {
   "cell_type": "code",
   "execution_count": 34,
   "metadata": {},
   "outputs": [],
   "source": [
    "#файл TNx\n",
    "with open(f'{Name}.TNx', 'w') as f:\n",
    "    print(Name, end='\\n     ', file=f)\n",
    "    print(a, ' : Daily records (1=daily, 2=10-daily and 3=monthly data)', end='\\n     ', file=f)\n",
    "    print (b, ' : First day of record (1, 11 or 21 for 10-day or 1 for months)', end='\\n     ', file=f)\n",
    "    print (c, ' : First month of record', end='\\n  ', file=f)\n",
    "    print ( year, ' : First year of record (1901 if not linked to a specific year)', end='\\n       ', file=f)\n",
    "    print (file=f)\n",
    "    print (  '  Tmin (C)   TMax (C)',file=f)\n",
    "    print ('=======================', file=f)\n",
    "    print (*t, sep='\\n', file=f) \n",
    "   "
   ]
  },
  {
   "cell_type": "code",
   "execution_count": 35,
   "metadata": {},
   "outputs": [],
   "source": [
    "#файл PLU\n",
    "z = list(df['PRECTOTCORR'].round(1))\n",
    "\n",
    "with open(f'{Name}.PLU', 'w') as f:\n",
    "    print(Name, end='\\n     ', file=f)\n",
    "    print(a, ' : Daily records (1=daily, 2=10-daily and 3=monthly data)', end='\\n     ', file=f)\n",
    "    print (b, ' : First day of record (1, 11 or 21 for 10-day or 1 for months)', end='\\n     ', file=f)\n",
    "    print (c, ' : First month of record', end='\\n  ', file=f)\n",
    "    print ( year, ' : First year of record (1901 if not linked to a specific year)', end='\\n       ', file=f)\n",
    "    print (file=f)\n",
    "    print (  '  Total Rain (mm)',file=f)\n",
    "    print ('=======================', file=f)\n",
    "    print (*z, sep='\\n', file=f)"
   ]
  }
 ],
 "metadata": {
  "kernelspec": {
   "display_name": "Python 3 (ipykernel)",
   "language": "python",
   "name": "python3"
  },
  "language_info": {
   "codemirror_mode": {
    "name": "ipython",
    "version": 3
   },
   "file_extension": ".py",
   "mimetype": "text/x-python",
   "name": "python",
   "nbconvert_exporter": "python",
   "pygments_lexer": "ipython3",
   "version": "3.11.2"
  }
 },
 "nbformat": 4,
 "nbformat_minor": 2
}
